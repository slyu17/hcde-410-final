{
 "cells": [
  {
   "cell_type": "markdown",
   "id": "ea6053a5-4836-49d5-af29-0bce66117a43",
   "metadata": {},
   "source": [
    "# Introduction\n",
    "\n",
    "### Motivation and problem statement\n",
    "\n",
    "Over the past a few decades, Artificial Intelligence(AI) have become a popular trend. Since the field was founded, more and more people have gained general interests and awareness on such topics, and discussions on AI have been all around the world. Today, Artificial Intelligence is the key to every company, especially those that are driven by technologies. Utilizing artificial intelligence gives companies a massive amount of profits, and it has boosted the world's economy as a whole. Machines with AI are coming into our lives at a fast pace, affecting how humans live and work. Today, technologies such as speech recognition, suggestive searches, and behavioral algorithms have become some of the most common features in humans life. However, the journey of AI is still the beginning. A successful AI system should achieve fully human-level, which is the ability to deal with different problems in different situations as well as or even better than humans. One of the biggest problems of AI is that the current algorithms cannot sovle for solutions efficently. There are many ethical issues associated with it. The current issues of AI have driven researchers and designers far away from there. As AI technologies coming into human's life, the society is influenced significantly. Every technology is designed to benefit humans. If such intelligence systems indeed contains such ethical issues and bias, it's probably not benefiting the humans. So in this project, I would like to find out what people think of AI over the past few decades to see whether AI is actually benefiting and improving our society. \n",
    "\n",
    "### Data selected for analysis \n",
    "Analyzing text over time can reveal trends and patterns in humans' beliefs, interest, and sentiment about Artificial Intelligence. This study focus on the views that expressed about artificial intelligence (AI) in the New York Times over the past 30-year period, from January 1986 to June 2016. The dataset I found on [Kaggle](https://www.kaggle.com/) presents a set of measures that captures levels of engagement, measures of pessimism and optimism, the prevalence of specific hopes and concerns, and topics that are linked to discussions about AI over decades. The dataset is originally querying the New York Times public API for metadata (e.g., title of article, section of paper, current URL). \n",
    "\n",
    "The license of the dataset is Open Use of Data Agreement v1.0, which according to the [Community Data License Agreement(CDLA)](https://cdla.dev/open-use-of-data-agreement-v1-0/#:~:text=0,-This%20is%20the&text=1.1.,follow%20the%20O%2DUDA's%20terms.), the dataset is available to use, modify and distribute. \n",
    "\n",
    "The original dataset can be found here: https://www.kaggle.com/datasets/saurabhshahane/public-perception-of-ai\n",
    "\n",
    "\n",
    "### Unknowns and dependencies\n",
    "Persoanlly I don't see any unknowns and dependencies right now that would cause me not to finish this project. I have about almost 4 weeks to finish, and I think I have a pretty good start with the dataset. I am traveling next week but I will be able to stay on track. "
   ]
  },
  {
   "cell_type": "markdown",
   "id": "b142c660-9c8f-4ac7-9677-1a823c57b106",
   "metadata": {},
   "source": [
    "### Research Questions / Hypotheses\n",
    "The main motivation of this project is to find out: \n",
    "\n",
    "- **What are some perceptions on Articificial Intelligence from different perspectives?**\n",
    "    - Hearing perceptions from different perspectives are very important. Poeple would have different expectation on AI technologies. Gathering data from different perspectives will show a over all trend of what people feel about AI, and why they feel like that. The dataset contains the data from a 30-year period, which will be enough data for this research. \n",
    "    - **Hypothesis**: Higher accuracy will lead to higher acceptance. Since AI systems have many different types of errors, it would be reasonable to say that people's satisfication will be faily low on AI technologies. \n",
    "- **Does Artificial Intelligence influence human's lives in a positive way or negative way?**\n",
    "    - AI system have been empowered into end-user applications in our life more and more often for the past several decades, and they are definitely impacting humans' lives. It is essential know whether these technologies are influencing humans' lives in a possible way or negative way from users' perspectives, because the purpose of such intelligent systems are here to serve humans. \n",
    "     - **Hypothesis**: AI technologies seem to provide convience and improving humans' lives on the surface, everything seems to work, but it's actually influencing humans' lives in a negative way.    \n",
    "- **Are poeple really getting convenience out of Artificial Intelligence Systems?**\n",
    "    - As mentioned previously, AI technologies are designed to bring convenience to humans, the dataset will show relatively true thoughts of what people feel on AI system, and whether they getting convenience. \n",
    "    - **Hypothesis**: People are not getting convenience out of Artificial Intelligence systems. \n",
    "\n",
    "### Background / Related Work \n",
    "The dataset published on Kaggle, however, is originally published by another research study on the similar topic on Long-Term Trends in the Public Perception of Artificial Intelligence, by Ethan Fast and Eric Horvitz. The original published research paper can be found here: https://arxiv.org/abs/1609.04904. The team presents a set of measures that captures levels of engagement, measures of pessimism and optimism, the prevalence of specific hopes and concerns, and topics that are linked to discussions about AI over decades. The team find that discussion of AI has increased sharply since 2009, and that these discussions have been consistently more optimistic than pessimistic. However, when the team examine specific concerns, they find that worries of loss of control of AI, ethical concerns for AI, and the negative impact of AI on work have grown in recent years. The team also find that hopes for AI in healthcare and education have increased over time.\n",
    "\n",
    "There are a lot other previous research studies on the topic of AI on society and the range of future outcomes (as listed below). These studies are mainly discussions about the public concerns about AI, without charts and graphs on the study like the one done by Ethan Fast and Eric Horvitz. \n",
    "\n",
    "- Dietterich, T. G., and Horvitz, E. J. 2015. Rise of concerns about AI: reflections and directions. Communications of the ACM 58(10):38–40.\n",
    "- Stanford University. 2014. One hundred year study on arti- ficial intelligence.\n",
    "- BSA. 2015. One in three believe that the rise of artificial intelligence is a threat to humanity.\n",
    "\n",
    "### Methodology\n",
    "By a glance, the dataset has duplicates of data. The first step is to clean up the data by removing those duplicates. The dataset have listed the paragraph the people say about Artificial Intelligence and robots. I will be going over those paragraphs and extract out some similar topics, count them, and plot them to see trends. The graph is going to be line graphs because line graphs are the best to show trends over time. \n",
    "\n",
    "Also the dataset have set of indicators of the good and bad of AI. According to the original research study, the dataset seems to have incorrect data. The numbers under each indicator indicates a number of votes of that concern in percentages from the range of 0 to 1, however, the decimals of the numbers are not shown in the dataset. I will be only counting the number of those and plot those in bar graphs to see comparisons among the indicators. "
   ]
  },
  {
   "cell_type": "markdown",
   "id": "07a20200-2b6e-42ed-84cb-b4301d98f188",
   "metadata": {},
   "source": [
    "**Dataset Indicators** \n",
    "\n",
    "`Impact on work (positive)`: AI makes human work easier or frees us from needing to work at all, e.g., by managing our schedules, automating chores via robots.\n",
    "\n",
    "`Education`: AI improves how students learn, e.g., through automatic tutoring or grading, or providing other kinds of personalized analytics.\n",
    "\n",
    "`Transportation`: AI enables new forms of transportation, e.g., self-driving cars, or advanced space travel.\n",
    "\n",
    "`Healthcare`: AI enhances the health and well-being of people, e.g., by assisting with diagnosis, drug discovery, or enabling personalized medicine.\n",
    "\n",
    "`Decision making`: AI or expert systems help us make bet- ter decisions, e.g., when to take a meeting, or case-based reasoning for business executives.\n",
    "\n",
    "`Entertainment`: AI brings us joy through entertainment, e.g., though smarter enemies in video games.\n",
    "\n",
    "`Singularity (positive)`: A potential singularity will bring positive benefits to humanity, e.g., immortality.\n",
    "\n",
    "`Merging of human and AI (positive)`: Humans merge with AI in a positive way, e.g., robotic limbs for the disabled, positive discussions about potential rise of transhumanism.\n",
    "\n",
    "`Impact on work (negative)`: AI displaces human jobs, e.g., large-scale loss of jobs by blue collar workers. Military applications: AI kills people or leads to instabil- ities and warfare through military applications, e.g., robotic soldiers, killer drones.\n",
    "\n",
    "`Absence of Appropriate Ethics`: AI lacks ethical reasoning, leading to negative outcomes, e.g., loss of human life. Lack of progress: The field of AI is advancing more slowly than expected, e.g., unmet expectations like those that led to an AI Winter.\n",
    "\n",
    "`Singularity (negative)`: The singularity harms humanity, e.g., humans are replaced or killed.\n",
    "\n",
    "`Merging of human and AI (negative)`: Humans merge with AI in a negative way, e.g., cyborg soldiers."
   ]
  },
  {
   "cell_type": "code",
   "execution_count": null,
   "id": "09077a4d-e934-4d8c-be31-f37ad99d406b",
   "metadata": {},
   "outputs": [],
   "source": []
  }
 ],
 "metadata": {
  "kernelspec": {
   "display_name": "Python 3 (ipykernel)",
   "language": "python",
   "name": "python3"
  },
  "language_info": {
   "codemirror_mode": {
    "name": "ipython",
    "version": 3
   },
   "file_extension": ".py",
   "mimetype": "text/x-python",
   "name": "python",
   "nbconvert_exporter": "python",
   "pygments_lexer": "ipython3",
   "version": "3.9.7"
  }
 },
 "nbformat": 4,
 "nbformat_minor": 5
}
