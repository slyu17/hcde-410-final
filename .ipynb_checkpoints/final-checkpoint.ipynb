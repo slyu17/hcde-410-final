{
 "cells": [
  {
   "cell_type": "markdown",
   "id": "ea6053a5-4836-49d5-af29-0bce66117a43",
   "metadata": {},
   "source": [
    "# Introduction\n",
    "\n",
    "### Motivation and problem statement\n",
    "\n",
    "Over the past a few decades, Artificial Intelligence(AI) have become a popular trend. Since the field was founded, more and more people have gained general interests and awareness on such topics, and discussions on AI have been all around the world. Today, Artificial Intelligence is the key to every company, especially those that are driven by technologies. Utilizing artificial intelligence gives companies a massive amount of profits, and it has boosted the world's economy as a whole. Machines with AI are coming into our lives at a fast pace, affecting how humans live and work. Today, technologies such as speech recognition, suggestive searches, and behavioral algorithms have become some of the most common features in humans life. However, the journey of AI is still the beginning. A successful AI system should achieve fully human-level, which is the ability to deal with different problems in different situations as well as or even better than humans. One of the biggest problems of AI is that the current algorithms cannot sovle for solutions efficently. There are many ethical issues associated with it. The current issues of AI have driven researchers and designers far away from there. As AI technologies coming into human's life, the society is influenced significantly. Every technology is designed to benefit humans. If such intelligence systems indeed contains such ethical issues and bias, it's probably not benefiting the humans. So in this project, I would like to find out what people think of AI over the past few decades to see whether AI is actually benefiting and improving our society. The main motivation of this project is to find out: \n",
    "\n",
    "- **What are some perceptions on Articificial Intelligence from different perspectives?**\n",
    "- **Does Artificial Intelligence influence human's lives in a positive way or negative way?**\n",
    "- **Are poeple really getting convenience out of Artificial Intelligence Systems?**\n",
    "\n",
    "\n",
    "### Data selected for analysis \n",
    "Analyzing text over time can reveal trends and patterns in humans' beliefs, interest, and sentiment about Artificial Intelligence. This study focus on the views that expressed about artificial intelligence (AI) in the New York Times over the past 30-year period. The dataset I found on [Kaggle](https://www.kaggle.com/) presents a set of measures that captures levels of engagement, measures of pessimism and optimism, the prevalence of specific hopes and concerns, and topics that are linked to discussions about AI over decades. The dataset is originally querying the New York Times public API for metadata (e.g., title of article, section of paper, current URL). \n",
    "\n",
    "The license of the dataset is Open Use of Data Agreement v1.0, which according to the [Community Data License Agreement(CDLA)](https://cdla.dev/open-use-of-data-agreement-v1-0/#:~:text=0,-This%20is%20the&text=1.1.,follow%20the%20O%2DUDA's%20terms.), the dataset is available to use, modify and distribute. \n",
    "\n",
    "The original dataset can be found here: https://www.kaggle.com/datasets/saurabhshahane/public-perception-of-ai\n",
    "\n",
    "\n",
    "### Unknowns and dependencies\n",
    "Persoanlly I don't see any unknowns and dependencies right now that would cause me not to finish this project. I have about almost 4 weeks to finish, and I think I have a pretty good start with the dataset. I am traveling next week but I will be able to stay on track. "
   ]
  },
  {
   "cell_type": "code",
   "execution_count": null,
   "id": "9a77b443-293b-459d-b551-dc9c81710648",
   "metadata": {},
   "outputs": [],
   "source": []
  }
 ],
 "metadata": {
  "kernelspec": {
   "display_name": "Python 3 (ipykernel)",
   "language": "python",
   "name": "python3"
  },
  "language_info": {
   "codemirror_mode": {
    "name": "ipython",
    "version": 3
   },
   "file_extension": ".py",
   "mimetype": "text/x-python",
   "name": "python",
   "nbconvert_exporter": "python",
   "pygments_lexer": "ipython3",
   "version": "3.9.7"
  }
 },
 "nbformat": 4,
 "nbformat_minor": 5
}
