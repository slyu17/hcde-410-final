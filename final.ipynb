{
 "cells": [
  {
   "cell_type": "markdown",
   "id": "ea6053a5-4836-49d5-af29-0bce66117a43",
   "metadata": {},
   "source": [
    "# Introduction\n",
    "\n",
    "### Motivation and problem statement\n",
    "\n",
    "Over the past a few decades, Artificial Intelligence(AI) have become a popular trend. Since the field was founded, more and more people have gained general interests and awareness on such topics, and discussions on AI have been all around the world. Today, Artificial Intelligence is the key to every company, especially those that are driven by technologies. Utilizing artificial intelligence gives companies a massive amount of profits, and it has boosted the world's economy as a whole. Machines with AI are coming into our lives at a fast pace, affecting how humans live and work. Today, technologies such as speech recognition, suggestive searches, and behavioral algorithms have become some of the most common features in humans life. However, the journey of AI is still the beginning. A successful AI system should achieve fully human-level, which is the ability to deal with different problems in different situations as well as or even better than humans. One of the biggest problems of AI is that the current algorithms cannot sovle for solutions efficently. There are many ethical issues associated with it. The current issues of AI have driven researchers and designers far away from there. As AI technologies coming into human's life, the society is influenced significantly. Every technology is designed to benefit humans. If such intelligence systems indeed contains such ethical issues and bias, it's probably not benefiting the humans. So in this project, I would like to find out what people think of AI over the past few decades to see whether AI is actually benefiting and improving our society. \n",
    "\n",
    "### Data selected for analysis \n",
    "Analyzing text over time can reveal trends and patterns in humans' beliefs, interest, and sentiment about Artificial Intelligence. This study focus on the views that expressed about artificial intelligence (AI) in the New York Times over the past 30-year period, from January 1986 to June 2016. The dataset I found on [Kaggle](https://www.kaggle.com/) presents a set of measures that captures levels of engagement, measures of pessimism and optimism, the prevalence of specific hopes and concerns, and topics that are linked to discussions about AI over decades. The dataset is originally querying the New York Times public API for metadata (e.g., title of article, section of paper, current URL). \n",
    "\n",
    "The license of the dataset is Open Use of Data Agreement v1.0, which according to the [Community Data License Agreement(CDLA)](https://cdla.dev/open-use-of-data-agreement-v1-0/#:~:text=0,-This%20is%20the&text=1.1.,follow%20the%20O%2DUDA's%20terms.), the dataset is available to use, modify and distribute. \n",
    "\n",
    "The original dataset can be found here: https://www.kaggle.com/datasets/saurabhshahane/public-perception-of-ai\n",
    "\n",
    "\n",
    "### Unknowns and dependencies\n",
    "Persoanlly I don't see any unknowns and dependencies right now that would cause me not to finish this project. I have about almost 4 weeks to finish, and I think I have a pretty good start with the dataset. I am traveling next week but I will be able to stay on track. "
   ]
  },
  {
   "cell_type": "markdown",
   "id": "b142c660-9c8f-4ac7-9677-1a823c57b106",
   "metadata": {},
   "source": [
    "### Research Questions / Hypotheses\n",
    "The main motivation of this project is to find out: \n",
    "\n",
    "- **What are some perceptions on Articificial Intelligence from different perspectives?**\n",
    "    - Hearing perceptions from different perspectives are very important. Poeple would have different expectation on AI technologies. Gathering data from different perspectives will show a over all trend of what people feel about AI, and why they feel like that. The dataset contains the data from a 30-year period, which will be enough data for this research. \n",
    "    - **Hypothesis**: Higher accuracy will lead to higher acceptance. Since AI systems have many different types of errors, it would be reasonable to say that people's satisfication will be faily low on AI technologies. \n",
    "  \n",
    "- **Are poeple really getting convenience out of Artificial Intelligence Systems?**\n",
    "    - As mentioned previously, AI technologies are designed to bring convenience to humans, the dataset will show relatively true thoughts of what people feel on AI system, and whether they getting convenience. \n",
    "    - **Hypothesis**: People are not getting convenience out of Artificial Intelligence systems. \n",
    "\n",
    "### Background / Related Work \n",
    "The dataset published on Kaggle, however, is originally published by another research study on the similar topic on Long-Term Trends in the Public Perception of Artificial Intelligence, by Ethan Fast and Eric Horvitz. The original published research paper can be found here: https://arxiv.org/abs/1609.04904. The team presents a set of measures that captures levels of engagement, measures of pessimism and optimism, the prevalence of specific hopes and concerns, and topics that are linked to discussions about AI over decades. The team find that discussion of AI has increased sharply since 2009, and that these discussions have been consistently more optimistic than pessimistic. However, when the team examine specific concerns, they find that worries of loss of control of AI, ethical concerns for AI, and the negative impact of AI on work have grown in recent years. The team also find that hopes for AI in healthcare and education have increased over time.\n",
    "\n",
    "There are a lot other previous research studies on the topic of AI on society and the range of future outcomes (as listed below). These studies are mainly discussions about the public concerns about AI, without charts and graphs on the study like the one done by Ethan Fast and Eric Horvitz. \n",
    "\n",
    "- Dietterich, T. G., and Horvitz, E. J. 2015. Rise of concerns about AI: reflections and directions. Communications of the ACM 58(10):38–40.\n",
    "- Stanford University. 2014. One hundred year study on arti- ficial intelligence.\n",
    "- BSA. 2015. One in three believe that the rise of artificial intelligence is a threat to humanity.\n",
    "\n",
    "### Methodology\n",
    "By a glance, the dataset has duplicates of data. The first step is to gather the information out of the dataset by removing the duplicates. The main part of the dataset is the snippets of paragraphs the people say about Artificial Intelligence and robots on New York Times. I went over those paragraphs and extract out some similar topics, and useful information that is useful for the report. Since the paragraph is not quantitative data, it will be hard to plot the trends visually.  \n",
    "\n",
    "Another big proportion of the dataset is the indicators of different areas(listed below) that shows the percentage, in terms of decimals format, of people mentioning each area in articles. According to the the original research, however, this dataset seems to replace the decimals to integers, only shows those that are 100% of mentioning, which is 1, and those that are not 100%, are zeros.\n",
    "\n",
    "I have counted the number of 100% mentioning of such topic, both positive and negative, in each year in the past 30 years to see the trend of how AI is affecting humans' life. The graph is a line graph because line graphs are the best to show trends over time."
   ]
  },
  {
   "cell_type": "markdown",
   "id": "07a20200-2b6e-42ed-84cb-b4301d98f188",
   "metadata": {},
   "source": [
    "**Dataset Indicators** \n",
    "\n",
    "`Impact on work (positive)`: AI makes human work easier or frees us from needing to work at all, e.g., by managing our schedules, automating chores via robots.\n",
    "\n",
    "`Education (positive/negative)`: AI improves/does not improve how students learn, e.g., through automatic tutoring or grading, or providing other kinds of personalized analytics.\n",
    "\n",
    "`Transportation (positive/negative)`: AI enables/does not enable new forms of transportation, e.g., self-driving cars, or advanced space travel.\n",
    "\n",
    "`Healthcare (positive/negative)`: AI enhances/does not enhance the health and well-being of people, e.g., by assisting with diagnosis, drug discovery, or enabling personalized medicine.\n",
    "\n",
    "`Decision making (positive/negative)`: AI or expert systems help/does not help us make better decisions, e.g., when to take a meeting, or case-based reasoning for business executives.\n",
    "\n",
    "`Entertainment (positive/negative)`: AI brings/does not bring us joy through entertainment, e.g., though smarter enemies in video games.\n",
    "\n",
    "`Singularity (positive)`: A potential singularity will bring positive benefits to humanity, e.g., immortality.\n",
    "\n",
    "`Merging of human and AI (positive)`: Humans merge with AI in a positive way, e.g., robotic limbs for the disabled, positive discussions about potential rise of transhumanism.\n",
    "\n",
    "`Impact on work (negative)`: AI displaces human jobs, e.g., large-scale loss of jobs by blue collar workers. Military applications: AI kills people or leads to instabilities and warfare through military applications, e.g., robotic soldiers, killer drones.\n",
    "\n",
    "`Absence of Appropriate Ethics (negative)`: AI lacks ethical reasoning, leading to negative outcomes, e.g., loss of human life. Lack of progress: The field of AI is advancing more slowly than expected, e.g., unmet expectations like those that led to an AI Winter.\n",
    "\n",
    "`Singularity (negative)`: The singularity harms humanity, e.g., humans are replaced or killed.\n",
    "\n",
    "`Merging of human and AI (negative)`: Humans merge with AI in a negative way, e.g., cyborg soldiers.\n",
    "\n"
   ]
  },
  {
   "cell_type": "markdown",
   "id": "1f0b0cb8-d532-45ed-8b3e-bfce8b7b30ab",
   "metadata": {},
   "source": [
    "**Coding** \n",
    "\n",
    "The very first step is to read the csv file and gather the data in codes. The next step is, as mentioned above, to remove the duplicates in the dataset. The data CSV file is collected using the csv reader function and the rows of the data is stored in a list named \"data\" and each element is each row. Each is checked to see whether the row is already in the list before appending it into the list."
   ]
  },
  {
   "cell_type": "code",
   "execution_count": 2,
   "id": "09077a4d-e934-4d8c-be31-f37ad99d406b",
   "metadata": {},
   "outputs": [],
   "source": [
    "# import the necessary libiaries for later use\n",
    "import csv\n",
    "import pandas as pd\n",
    "import numpy as np\n",
    "import matplotlib.pyplot as plt"
   ]
  },
  {
   "cell_type": "code",
   "execution_count": 7,
   "id": "9968c2ec-0bba-4cc2-b1ce-a6cb43c0d38f",
   "metadata": {},
   "outputs": [],
   "source": [
    "# Read the csv file\n",
    "reader = csv.reader(open(\"robot-ai-all-public.csv\"))\n",
    "# Skip the header\n",
    "next(reader)\n",
    "# remove the duplicates\n",
    "# make a list to store data\n",
    "data = []\n",
    "# go through each row of the dataset\n",
    "for row in reader:\n",
    "    # if the row is not in the list\n",
    "    if row not in data:\n",
    "        # add the row in the list\n",
    "        data.append(row)"
   ]
  },
  {
   "cell_type": "markdown",
   "id": "3914f523-c2e8-4d04-95e5-037f4d66bf47",
   "metadata": {},
   "source": [
    "The next step is to count the total number of positives and negatives of the 100 percent mentioning in articles for each year over the past 30 years. I made a dictionary to store the year as a key and a list of two integers, which indicate for positive count and negative count as the values. First, I went through the data and extrace only the year out of the article dates. Then I checked if the year is already as a key in the dictionary, if it's not in the dictionary keys, the year is added to the dictionary as a new key, and initialize the list of two integers as zeros. There are many empty data in the dataset, so I also checked whether the year is presented in each row before adding it to the dictionary. Later I counted all of the appearances of the \"1\" in the table from columns 10 to 17, which are the negative indicators, and stored them to the dictionary. Same thing is done to the positive indicators from columns 18 to 25. By the end of the process, the dictionary contians the 30 years as keys, and two numbers of positive and negative counts for each key. "
   ]
  },
  {
   "cell_type": "code",
   "execution_count": 8,
   "id": "03be3380-f4f6-4c88-8373-05e2ae0809e1",
   "metadata": {},
   "outputs": [],
   "source": [
    "# make an empty dictionary to store data\n",
    "date = {}\n",
    "# go through the items in data\n",
    "for item in data:\n",
    "    # if the year is not in the dictionary keys\n",
    "    if item[1][0:4] not in date.keys():\n",
    "        # if the year is presented\n",
    "        if len(item[1][0:4]) == 4:\n",
    "            # add the key to the dictionary with intialized value of a list with two zeros\n",
    "            date[item[1][0:4]] = [0,0]\n",
    "# go through the items in data\n",
    "for item in data:\n",
    "    # if the year of the row is in the dictionary keys\n",
    "    if item[1][0:4] in date.keys():\n",
    "        # go through the negative columns 10-17\n",
    "        for temp in item[10:17]:\n",
    "            # if the value is 1\n",
    "            if temp == \"1\":\n",
    "                # add one for the negative count in the dictionary\n",
    "                date[item[1][0:4]][0] += 1\n",
    "        # go through the positive columns 18-25\n",
    "        for temp in item[18:25]:\n",
    "            # if the value is 1\n",
    "            if temp == \"1\":\n",
    "                # add one for the positive count in the dictionary\n",
    "                date[item[1][0:4]][1] += 1"
   ]
  },
  {
   "cell_type": "markdown",
   "id": "300f7d42-9bc8-401e-a33a-e237aaefdd8d",
   "metadata": {},
   "source": [
    "The next step is to plot the line graph based on the data from the dictionary. First, I made two lists for storing the positive and negative counts in chronological order. Then the two lists of integers were ploted with years on the line graph(as shown below), with years on the x-axis and the number of counts on the y-axis. The two lines are coded in different colors to easily extinguish the positive and negative."
   ]
  },
  {
   "cell_type": "code",
   "execution_count": 9,
   "id": "175966ea-bc17-4661-8acf-14361f588023",
   "metadata": {
    "tags": []
   },
   "outputs": [
    {
     "data": {
      "image/png": "[encoded data removed]",
      "text/plain": [
       "<Figure size 432x288 with 1 Axes>"
      ]
     },
     "metadata": {},
     "output_type": "display_data"
    }
   ],
   "source": [
    "# make two empty lists to store positive and negative counts\n",
    "positive = []\n",
    "negative = []\n",
    "# go through the sorted dictionary keys \n",
    "for item in sorted(date):\n",
    "    # add the value to the list\n",
    "    negative.append(date[item][0])\n",
    "# go through the sorted dictionary keys \n",
    "for item in sorted(date):\n",
    "    # add the value to the list\n",
    "    positive.append(date[item][1])\n",
    "# plot the sorted year and the negative values in the graph, labeled as negative\n",
    "plt.plot(sorted(date), negative, label = \"Negative\")\n",
    "# plot the sorted year and the positive values in the graph, labeled as positive\n",
    "plt.plot(sorted(date), positive, label = \"Positive\")\n",
    "# show the legend on the graph\n",
    "plt.legend()\n",
    "# add the title\n",
    "plt.title('AI perceptions over year')\n",
    "# label the x-axis\n",
    "plt.xlabel('Year(1986-2016)')\n",
    "# label the y-axis\n",
    "plt.ylabel('Number of 100% Mentioning Negative in Articles')\n",
    "# get rid of the stick labels on x-axis\n",
    "plt.xticks(color='w')\n",
    "# show the graph\n",
    "plt.show()"
   ]
  },
  {
   "cell_type": "markdown",
   "id": "66fa5f1f-9ae6-4507-9417-518ad0ec27f8",
   "metadata": {},
   "source": [
    "### Findings\n",
    "The garph clearly shows an obvious trend of people mentioning positives and negatives about Artificial Intelligence over the past 30 yeears. Both have had a clear overall increase between 1986 and 2015. However,a significant drop appeared at the year of 2016. By comparing the positive and negative perceptions, the graph clearly shows that the positive perceptions on AI is greater than negative perceptions for every year. According to the graph, it is reasonable to say that AI technologies have been implemented in humans' lives more and more over the past 30 years, because the mentioning of AI have increased. \n",
    "\n",
    "Going back to the research questions and hypothesis, the hypothesis on the first research question matches the results, and the hypothesis on the first research question doesn't necessarily matches the results. AI technologies indeed contains many differnt types of errors and bias. And people's satisfication are getting lower and lower on AI technologies. However, the graph still shows the benefits that AI have brought to our society, the the good is greater than bads, which is the expected outcome that AI technologies should have. "
   ]
  },
  {
   "cell_type": "markdown",
   "id": "a5d7abb1-43d7-433c-8b64-5311f6aa1d99",
   "metadata": {},
   "source": [
    "### Discussions\n",
    "\n",
    "**Implications**: As people mentioning more negatives sides that AI brings to humans, it is essential for AI technolgies designers to see such problems. AI technologies are indeed faster than humans on solving certain problems but the results are not necessarily more accurate than humans. Many companies pursue the convenience and often ignore the negative effects it would bring to the users. \n",
    "\n",
    "**Limitations**: The biggest limitation of the researh is the dataset. It is not the original dataset, and many data are missing. With more accurate percentages of data, I would make other visualizations that are more accurate showing the public perceptions on AI, rather than the counts mentioning positive n"
   ]
  },
  {
   "cell_type": "markdown",
   "id": "8b10b581-94a1-4cd7-82f1-1241caaff468",
   "metadata": {},
   "source": [
    "### Conclusions\n",
    "AI techonlogies are and will be the main stream to our socity in the future. Technologies are designed to benefit and improve humans' lives. From the results of this reasearch, people have a both postive and negative perception on AI over the past 30 years. Even though the positive perceptions on AI is greater than the negative ones, an increase of negative effects of AI technologies are mentioned in public articles. AI technologies are still affecting the socity in a bad way. Machine-learning designers should focus on the bias and mistakes of such technologies that would bring cause such negative perceptions, and avoid them in the future designs. "
   ]
  }
 ],
 "metadata": {
  "kernelspec": {
   "display_name": "Python 3 (ipykernel)",
   "language": "python",
   "name": "python3"
  },
  "language_info": {
   "codemirror_mode": {
    "name": "ipython",
    "version": 3
   },
   "file_extension": ".py",
   "mimetype": "text/x-python",
   "name": "python",
   "nbconvert_exporter": "python",
   "pygments_lexer": "ipython3",
   "version": "3.9.7"
  }
 },
 "nbformat": 4,
 "nbformat_minor": 5
}
